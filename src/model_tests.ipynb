{
 "cells": [
  {
   "cell_type": "markdown",
   "metadata": {},
   "source": [
    "# Model Architecture Tests"
   ]
  },
  {
   "cell_type": "code",
   "execution_count": 1,
   "metadata": {},
   "outputs": [],
   "source": [
    "%load_ext autoreload\n",
    "%autoreload 2"
   ]
  },
  {
   "cell_type": "code",
   "execution_count": 2,
   "metadata": {},
   "outputs": [],
   "source": [
    "from bicycle_bell_sed_models.models.crnn import crnn \n",
    "from bicycle_bell_sed_models.models.yamnet_base import yamnet_base\n",
    "from bicycle_bell_sed_models.models.yamnet_lstm_fc import yamnet_lstm_fc\n",
    "\n",
    "import tensorflow as tf\n",
    "import tensorflow.keras as keras\n",
    "import numpy"
   ]
  },
  {
   "cell_type": "code",
   "execution_count": 3,
   "metadata": {},
   "outputs": [],
   "source": [
    "sr = 16000\n",
    "audioLength = sr * 3 # sr*sec\n",
    "rdmAudio = numpy.array([numpy.random.random(audioLength) for _ in range(3)])\n",
    "rdmLabel = numpy.array([numpy.random.randint(0, 2) for _ in range(3)])"
   ]
  },
  {
   "cell_type": "code",
   "execution_count": 4,
   "metadata": {},
   "outputs": [
    {
     "name": "stdout",
     "output_type": "stream",
     "text": [
      "<BatchDataset shapes: ({wav_16000_mono_input: (None, 48000)}, {class_output: (None,)}), types: ({wav_16000_mono_input: tf.float64}, {class_output: tf.int32})>\n",
      "{'wav_16000_mono_input': <tf.Tensor: shape=(3, 48000), dtype=float64, numpy=\n",
      "array([[0.58602391, 0.19531475, 0.20526848, ..., 0.62241431, 0.7691316 ,\n",
      "        0.3080858 ],\n",
      "       [0.76500825, 0.30596491, 0.12973217, ..., 0.37422351, 0.61563969,\n",
      "        0.65762062],\n",
      "       [0.42036922, 0.0733766 , 0.18922379, ..., 0.2413823 , 0.93748899,\n",
      "        0.76353425]])>}\n",
      "{'class_output': <tf.Tensor: shape=(3,), dtype=int32, numpy=array([0, 0, 0])>}\n",
      "wav_16000_mono_input\n",
      "class_output\n"
     ]
    }
   ],
   "source": [
    "ds = tf.data.Dataset.from_tensor_slices(({f'wav_{sr}_mono_input': rdmAudio}, {'class_output': rdmLabel}))\n",
    "ds = ds.batch(3)\n",
    "\n",
    "print(ds)\n",
    "for xbatch, ybatch in ds:\n",
    "  print(xbatch)\n",
    "  print(ybatch)\n",
    "  for x, y in zip(xbatch, ybatch):\n",
    "    print(x)\n",
    "    print(y)\n",
    "    break\n",
    "  break"
   ]
  },
  {
   "cell_type": "markdown",
   "metadata": {},
   "source": [
    "## CRNN Test"
   ]
  },
  {
   "cell_type": "markdown",
   "metadata": {},
   "source": [
    "single-output"
   ]
  },
  {
   "cell_type": "code",
   "execution_count": 6,
   "metadata": {},
   "outputs": [
    {
     "name": "stdout",
     "output_type": "stream",
     "text": [
      "Model: \"crnn\"\n",
      "_________________________________________________________________\n",
      " Layer (type)                Output Shape              Param #   \n",
      "=================================================================\n",
      " wav_16000_mono_input (Input  [(None, None)]           0         \n",
      " Layer)                                                          \n",
      "                                                                 \n",
      " log_mel_spectrogram_transfo  ((None, None, 64),       0         \n",
      " rm (LogMelSpectrogramTransf   (None, None, 96, 64))             \n",
      " ormLayer)                                                       \n",
      "                                                                 \n",
      " reshape (Reshape)           (None, None, 64, 1)       0         \n",
      "                                                                 \n",
      " time_distributed_conv1d (Ti  (None, None, 33, 64)     2112      \n",
      " meDistributed)                                                  \n",
      "                                                                 \n",
      " time_distributed_batch_norm  (None, None, 33, 64)     256       \n",
      " alized_1 (TimeDistributed)                                      \n",
      "                                                                 \n",
      " time_distributed_max_poolin  (None, None, 1, 64)      0         \n",
      " g_1d (TimeDistributed)                                          \n",
      "                                                                 \n",
      " time_distributed_dropout_1   (None, None, 1, 64)      0         \n",
      " (TimeDistributed)                                               \n",
      "                                                                 \n",
      " time_distributed_flatten_1   (None, None, 64)         0         \n",
      " (TimeDistributed)                                               \n",
      "                                                                 \n",
      " lstm_1 (LSTM)               (None, None, 64)          33024     \n",
      "                                                                 \n",
      " lstm_2 (LSTM)               (None, None, 64)          33024     \n",
      "                                                                 \n",
      " time_distributed_dense_1 (T  (None, None, 64)         4160      \n",
      " imeDistributed)                                                 \n",
      "                                                                 \n",
      " time_distributed_batch_norm  (None, None, 64)         256       \n",
      " alized_2 (TimeDistributed)                                      \n",
      "                                                                 \n",
      " time_distributed_dense_fram  (None, None, 1)          65        \n",
      " e_output (TimeDistributed)                                      \n",
      "                                                                 \n",
      " flatten_2 (Flatten)         (None, None)              0         \n",
      "                                                                 \n",
      " time_dissolved (ReduceTimeW  (None,)                  0         \n",
      " rapper)                                                         \n",
      "                                                                 \n",
      " class_output (ClassOutput)  (None,)                   0         \n",
      "                                                                 \n",
      "=================================================================\n",
      "Total params: 72,897\n",
      "Trainable params: 72,641\n",
      "Non-trainable params: 256\n",
      "_________________________________________________________________\n",
      "1/1 [==============================] - 27s 27s/step - loss: 0.7033 - accuracy: 0.0000e+00\n"
     ]
    },
    {
     "data": {
      "text/plain": [
       "<keras.callbacks.History at 0x2145db20f70>"
      ]
     },
     "execution_count": 6,
     "metadata": {},
     "output_type": "execute_result"
    }
   ],
   "source": [
    "model_crnn = crnn()\n",
    "model_crnn.summary()\n",
    "model_crnn.compile(\n",
    "    optimizer='adam', \n",
    "    loss={\n",
    "        \"class_output\": 'binary_crossentropy',\n",
    "    },\n",
    "    metrics={\n",
    "        \"class_output\": [\n",
    "            'accuracy',\n",
    "        ],\n",
    "    },\n",
    "    loss_weights={\n",
    "        \"class_output\": 1.0,\n",
    "    }, \n",
    ")\n",
    "model_crnn.fit(ds)"
   ]
  },
  {
   "cell_type": "markdown",
   "metadata": {},
   "source": [
    "multi-output"
   ]
  },
  {
   "cell_type": "code",
   "execution_count": 6,
   "metadata": {},
   "outputs": [
    {
     "name": "stdout",
     "output_type": "stream",
     "text": [
      "1/1 [==============================] - 6s 6s/step - loss: 0.7122 - class_output_loss: 0.7122 - class_output_accuracy: 0.0000e+00\n"
     ]
    },
    {
     "data": {
      "text/plain": [
       "<keras.callbacks.History at 0x21f244b59d0>"
      ]
     },
     "execution_count": 6,
     "metadata": {},
     "output_type": "execute_result"
    }
   ],
   "source": [
    "model_crnn = crnn()\n",
    "model_crnn.compile(optimizer='adam', \n",
    "    loss=['binary_crossentropy', None],\n",
    "    metrics=[('accuracy',), (None,)],\n",
    "    loss_weights=[1.0, 0.0], \n",
    ")\n",
    "model_crnn.fit(ds, batch_size=3)"
   ]
  },
  {
   "cell_type": "code",
   "execution_count": 7,
   "metadata": {},
   "outputs": [
    {
     "name": "stdout",
     "output_type": "stream",
     "text": [
      "1/1 [==============================] - 4s 4s/step - loss: 0.7379 - class_output_loss: 0.7379 - class_output_accuracy: 0.0000e+00\n"
     ]
    },
    {
     "data": {
      "text/plain": [
       "<keras.callbacks.History at 0x21fefd4c550>"
      ]
     },
     "execution_count": 7,
     "metadata": {},
     "output_type": "execute_result"
    }
   ],
   "source": [
    "model_crnn = crnn()\n",
    "model_crnn.compile(optimizer='adam', \n",
    "    loss={\n",
    "        \"class_output\": 'binary_crossentropy', # last layer name\n",
    "        \"log_mel_spectrogram_output\": None,\n",
    "    },\n",
    "    metrics={\n",
    "        \"class_output\": [\n",
    "            'accuracy',\n",
    "        ],\n",
    "        \"log_mel_spectrogram_output\": [\n",
    "          None,\n",
    "        ],\n",
    "    },\n",
    "    loss_weights={\n",
    "        \"class_output\": 1.0, \n",
    "        \"log_mel_spectrogram_output\": 0.0,\n",
    "    }, \n",
    ")\n",
    "model_crnn.fit(ds, batch_size=3)"
   ]
  },
  {
   "cell_type": "markdown",
   "metadata": {},
   "source": [
    "## YAMNet Base Test"
   ]
  },
  {
   "cell_type": "markdown",
   "metadata": {},
   "source": [
    "single-output"
   ]
  },
  {
   "cell_type": "code",
   "execution_count": 13,
   "metadata": {},
   "outputs": [
    {
     "name": "stdout",
     "output_type": "stream",
     "text": [
      "Model: \"yamnet_base\"\n",
      "_________________________________________________________________\n",
      " Layer (type)                Output Shape              Param #   \n",
      "=================================================================\n",
      " wav_16000_mono_input (Input  [(None, None)]           0         \n",
      " Layer)                                                          \n",
      "                                                                 \n",
      " yamnet_wrapper (YAMNetWrapp  {'scores': (None, None,   0        \n",
      " er)                         521),                               \n",
      "                              'spectrogram': (None, N            \n",
      "                             one, 64)}                           \n",
      "                                                                 \n",
      " tf.__operators__.getitem_1   (None, None)             0         \n",
      " (SlicingOpLambda)                                               \n",
      "                                                                 \n",
      " scores (Layer)              (None, None)              0         \n",
      "                                                                 \n",
      " time_dissolved (ReduceTimeW  (None,)                  0         \n",
      " rapper)                                                         \n",
      "                                                                 \n",
      " class_output (ClassOutput)  (None,)                   0         \n",
      "                                                                 \n",
      "=================================================================\n",
      "Total params: 0\n",
      "Trainable params: 0\n",
      "Non-trainable params: 0\n",
      "_________________________________________________________________\n",
      "WARNING:tensorflow:6 out of the last 6 calls to <function Model.make_train_function.<locals>.train_function at 0x0000019676A6EF70> triggered tf.function retracing. Tracing is expensive and the excessive number of tracings could be due to (1) creating @tf.function repeatedly in a loop, (2) passing tensors with different shapes, (3) passing Python objects instead of tensors. For (1), please define your @tf.function outside of the loop. For (2), @tf.function has experimental_relax_shapes=True option that relaxes argument shapes that can avoid unnecessary retracing. For (3), please refer to https://www.tensorflow.org/guide/function#controlling_retracing and https://www.tensorflow.org/api_docs/python/tf/function for  more details.\n"
     ]
    },
    {
     "name": "stderr",
     "output_type": "stream",
     "text": [
      "WARNING:tensorflow:6 out of the last 6 calls to <function Model.make_train_function.<locals>.train_function at 0x0000019676A6EF70> triggered tf.function retracing. Tracing is expensive and the excessive number of tracings could be due to (1) creating @tf.function repeatedly in a loop, (2) passing tensors with different shapes, (3) passing Python objects instead of tensors. For (1), please define your @tf.function outside of the loop. For (2), @tf.function has experimental_relax_shapes=True option that relaxes argument shapes that can avoid unnecessary retracing. For (3), please refer to https://www.tensorflow.org/guide/function#controlling_retracing and https://www.tensorflow.org/api_docs/python/tf/function for  more details.\n"
     ]
    },
    {
     "name": "stdout",
     "output_type": "stream",
     "text": [
      "1/1 [==============================] - 2s 2s/step - loss: 10.1662 - accuracy: 0.0000e+00\n"
     ]
    },
    {
     "data": {
      "text/plain": [
       "<keras.callbacks.History at 0x19676a649d0>"
      ]
     },
     "execution_count": 13,
     "metadata": {},
     "output_type": "execute_result"
    }
   ],
   "source": [
    "model_yn_base = yamnet_base()\n",
    "model_yn_base.summary()\n",
    "model_yn_base.compile(\n",
    "    optimizer='adam', \n",
    "    loss={\n",
    "        \"class_output\": 'binary_crossentropy',\n",
    "    },\n",
    "    metrics={\n",
    "        \"class_output\": [\n",
    "            'accuracy',\n",
    "        ],\n",
    "    },\n",
    "    loss_weights={\n",
    "        \"class_output\": 1.0,\n",
    "    }, \n",
    ")\n",
    "model_yn_base.fit(ds)"
   ]
  },
  {
   "cell_type": "markdown",
   "metadata": {},
   "source": [
    "multi-output"
   ]
  },
  {
   "cell_type": "code",
   "execution_count": 11,
   "metadata": {},
   "outputs": [
    {
     "name": "stdout",
     "output_type": "stream",
     "text": [
      "1/1 [==============================] - 12s 12s/step - loss: 5.1416 - class_output_loss: 5.1416 - class_output_accuracy: 0.0000e+00\n"
     ]
    },
    {
     "data": {
      "text/plain": [
       "<keras.callbacks.History at 0x22046f89f70>"
      ]
     },
     "execution_count": 11,
     "metadata": {},
     "output_type": "execute_result"
    }
   ],
   "source": [
    "model_yn_base = yamnet_base()\n",
    "model_yn_base.compile(optimizer='adam', \n",
    "    loss=['binary_crossentropy', None],\n",
    "    metrics=[('accuracy',), (None,)],\n",
    "    loss_weights=[1.0, 0.0], \n",
    ")\n",
    "model_yn_base.fit(ds, batch_size=3)"
   ]
  },
  {
   "cell_type": "code",
   "execution_count": 12,
   "metadata": {},
   "outputs": [
    {
     "name": "stdout",
     "output_type": "stream",
     "text": [
      "1/1 [==============================] - 11s 11s/step - loss: 5.1416 - class_output_loss: 5.1416 - class_output_accuracy: 0.0000e+00\n"
     ]
    },
    {
     "data": {
      "text/plain": [
       "<keras.callbacks.History at 0x2205f2a2d60>"
      ]
     },
     "execution_count": 12,
     "metadata": {},
     "output_type": "execute_result"
    }
   ],
   "source": [
    "model_yn_base = yamnet_base()\n",
    "model_yn_base.compile(optimizer='adam', \n",
    "    loss={\n",
    "        \"class_output\": 'binary_crossentropy', # last layer name\n",
    "        \"log_mel_spectrogram_output\": None,\n",
    "    },\n",
    "    metrics={\n",
    "        \"class_output\": [\n",
    "            'accuracy',\n",
    "        ],\n",
    "        \"log_mel_spectrogram_output\": [\n",
    "          None,\n",
    "        ],\n",
    "    },\n",
    "    loss_weights={\n",
    "        \"class_output\": 1.0, \n",
    "        \"log_mel_spectrogram_output\": 0.0,\n",
    "    }, \n",
    ")\n",
    "model_yn_base.fit(ds, batch_size=3)"
   ]
  },
  {
   "cell_type": "markdown",
   "metadata": {},
   "source": [
    "## YAMNet Extended"
   ]
  },
  {
   "cell_type": "markdown",
   "metadata": {},
   "source": [
    "single-output"
   ]
  },
  {
   "cell_type": "code",
   "execution_count": 11,
   "metadata": {},
   "outputs": [
    {
     "name": "stdout",
     "output_type": "stream",
     "text": [
      "Model: \"yamnet_lstm_fc\"\n",
      "_________________________________________________________________\n",
      " Layer (type)                Output Shape              Param #   \n",
      "=================================================================\n",
      " wav_16000_mono_input (Input  [(None, None)]           0         \n",
      " Layer)                                                          \n",
      "                                                                 \n",
      " yamnet_wrapper (YAMNetWrapp  {'embeddings': (None, No  0        \n",
      " er)                         ne, 1024),                          \n",
      "                              'spectrogram': (None, N            \n",
      "                             one, 64)}                           \n",
      "                                                                 \n",
      " yamnet_embeddings (Layer)   (None, None, 1024)        0         \n",
      "                                                                 \n",
      " lstm (LSTM)                 (None, None, 64)          278784    \n",
      "                                                                 \n",
      " time_distributed_dense_1 (T  (None, None, 32)         2080      \n",
      " imeDistributed)                                                 \n",
      "                                                                 \n",
      " time_distributed_dropout_1   (None, None, 32)         0         \n",
      " (TimeDistributed)                                               \n",
      "                                                                 \n",
      " time_distributed_dense_2 (T  (None, None, 16)         528       \n",
      " imeDistributed)                                                 \n",
      "                                                                 \n",
      " time_distributed_dropout_2   (None, None, 16)         0         \n",
      " (TimeDistributed)                                               \n",
      "                                                                 \n",
      " time_distributed_dense_fram  (None, None, 1)          17        \n",
      " e_output (TimeDistributed)                                      \n",
      "                                                                 \n",
      " time_dissolved (ReduceTimeW  (None, 1)                0         \n",
      " rapper)                                                         \n",
      "                                                                 \n",
      " reshape (Reshape)           (None,)                   0         \n",
      "                                                                 \n",
      " class_output (ClassOutput)  (None,)                   0         \n",
      "                                                                 \n",
      "=================================================================\n",
      "Total params: 281,409\n",
      "Trainable params: 281,409\n",
      "Non-trainable params: 0\n",
      "_________________________________________________________________\n",
      "WARNING:tensorflow:5 out of the last 5 calls to <function Model.make_train_function.<locals>.train_function at 0x000001964083AE50> triggered tf.function retracing. Tracing is expensive and the excessive number of tracings could be due to (1) creating @tf.function repeatedly in a loop, (2) passing tensors with different shapes, (3) passing Python objects instead of tensors. For (1), please define your @tf.function outside of the loop. For (2), @tf.function has experimental_relax_shapes=True option that relaxes argument shapes that can avoid unnecessary retracing. For (3), please refer to https://www.tensorflow.org/guide/function#controlling_retracing and https://www.tensorflow.org/api_docs/python/tf/function for  more details.\n"
     ]
    },
    {
     "name": "stderr",
     "output_type": "stream",
     "text": [
      "WARNING:tensorflow:5 out of the last 5 calls to <function Model.make_train_function.<locals>.train_function at 0x000001964083AE50> triggered tf.function retracing. Tracing is expensive and the excessive number of tracings could be due to (1) creating @tf.function repeatedly in a loop, (2) passing tensors with different shapes, (3) passing Python objects instead of tensors. For (1), please define your @tf.function outside of the loop. For (2), @tf.function has experimental_relax_shapes=True option that relaxes argument shapes that can avoid unnecessary retracing. For (3), please refer to https://www.tensorflow.org/guide/function#controlling_retracing and https://www.tensorflow.org/api_docs/python/tf/function for  more details.\n"
     ]
    },
    {
     "name": "stdout",
     "output_type": "stream",
     "text": [
      "1/1 [==============================] - 13s 13s/step - loss: 0.6302 - accuracy: 1.0000\n"
     ]
    },
    {
     "data": {
      "text/plain": [
       "<keras.callbacks.History at 0x196407acb20>"
      ]
     },
     "execution_count": 11,
     "metadata": {},
     "output_type": "execute_result"
    }
   ],
   "source": [
    "model_yn_extended = yamnet_lstm_fc()\n",
    "model_yn_extended.summary()\n",
    "model_yn_extended.compile(\n",
    "    optimizer='adam', \n",
    "    loss={\n",
    "        \"class_output\": 'binary_crossentropy',\n",
    "    },\n",
    "    metrics={\n",
    "        \"class_output\": [\n",
    "            'accuracy',\n",
    "        ],\n",
    "    },\n",
    "    loss_weights={\n",
    "        \"class_output\": 1.0,\n",
    "    }, \n",
    ")\n",
    "model_yn_extended.fit(ds)"
   ]
  },
  {
   "cell_type": "markdown",
   "metadata": {},
   "source": [
    "multi-output"
   ]
  },
  {
   "cell_type": "code",
   "execution_count": 16,
   "metadata": {},
   "outputs": [
    {
     "name": "stdout",
     "output_type": "stream",
     "text": [
      "WARNING:tensorflow:5 out of the last 5 calls to <function Model.make_train_function.<locals>.train_function at 0x0000022091CE3A60> triggered tf.function retracing. Tracing is expensive and the excessive number of tracings could be due to (1) creating @tf.function repeatedly in a loop, (2) passing tensors with different shapes, (3) passing Python objects instead of tensors. For (1), please define your @tf.function outside of the loop. For (2), @tf.function has experimental_relax_shapes=True option that relaxes argument shapes that can avoid unnecessary retracing. For (3), please refer to https://www.tensorflow.org/guide/function#controlling_retracing and https://www.tensorflow.org/api_docs/python/tf/function for  more details.\n"
     ]
    },
    {
     "name": "stderr",
     "output_type": "stream",
     "text": [
      "WARNING:tensorflow:5 out of the last 5 calls to <function Model.make_train_function.<locals>.train_function at 0x0000022091CE3A60> triggered tf.function retracing. Tracing is expensive and the excessive number of tracings could be due to (1) creating @tf.function repeatedly in a loop, (2) passing tensors with different shapes, (3) passing Python objects instead of tensors. For (1), please define your @tf.function outside of the loop. For (2), @tf.function has experimental_relax_shapes=True option that relaxes argument shapes that can avoid unnecessary retracing. For (3), please refer to https://www.tensorflow.org/guide/function#controlling_retracing and https://www.tensorflow.org/api_docs/python/tf/function for  more details.\n"
     ]
    },
    {
     "name": "stdout",
     "output_type": "stream",
     "text": [
      "1/1 [==============================] - 12s 12s/step - loss: 1.6393 - class_output_loss: 1.6393 - class_output_accuracy: 0.0000e+00\n"
     ]
    },
    {
     "data": {
      "text/plain": [
       "<keras.callbacks.History at 0x22092e8aac0>"
      ]
     },
     "execution_count": 16,
     "metadata": {},
     "output_type": "execute_result"
    }
   ],
   "source": [
    "model_yn_extended = yamnet_lstm_fc()\n",
    "model_yn_extended.compile(optimizer='adam', \n",
    "    loss=['binary_crossentropy', None],\n",
    "    metrics=[('accuracy',), (None,)],\n",
    "    loss_weights=[1.0, 0.0], \n",
    ")\n",
    "model_yn_extended.fit(ds, batch_size=3)"
   ]
  },
  {
   "cell_type": "code",
   "execution_count": 17,
   "metadata": {},
   "outputs": [
    {
     "name": "stdout",
     "output_type": "stream",
     "text": [
      "WARNING:tensorflow:6 out of the last 6 calls to <function Model.make_train_function.<locals>.train_function at 0x000002201A5C6310> triggered tf.function retracing. Tracing is expensive and the excessive number of tracings could be due to (1) creating @tf.function repeatedly in a loop, (2) passing tensors with different shapes, (3) passing Python objects instead of tensors. For (1), please define your @tf.function outside of the loop. For (2), @tf.function has experimental_relax_shapes=True option that relaxes argument shapes that can avoid unnecessary retracing. For (3), please refer to https://www.tensorflow.org/guide/function#controlling_retracing and https://www.tensorflow.org/api_docs/python/tf/function for  more details.\n"
     ]
    },
    {
     "name": "stderr",
     "output_type": "stream",
     "text": [
      "WARNING:tensorflow:6 out of the last 6 calls to <function Model.make_train_function.<locals>.train_function at 0x000002201A5C6310> triggered tf.function retracing. Tracing is expensive and the excessive number of tracings could be due to (1) creating @tf.function repeatedly in a loop, (2) passing tensors with different shapes, (3) passing Python objects instead of tensors. For (1), please define your @tf.function outside of the loop. For (2), @tf.function has experimental_relax_shapes=True option that relaxes argument shapes that can avoid unnecessary retracing. For (3), please refer to https://www.tensorflow.org/guide/function#controlling_retracing and https://www.tensorflow.org/api_docs/python/tf/function for  more details.\n"
     ]
    },
    {
     "name": "stdout",
     "output_type": "stream",
     "text": [
      "1/1 [==============================] - 12s 12s/step - loss: 10.2833 - class_output_loss: 10.2833 - class_output_accuracy: 1.0000\n"
     ]
    },
    {
     "data": {
      "text/plain": [
       "<keras.callbacks.History at 0x220825e7a00>"
      ]
     },
     "execution_count": 17,
     "metadata": {},
     "output_type": "execute_result"
    }
   ],
   "source": [
    "model_yn_extended = yamnet_lstm_fc()\n",
    "model_yn_extended.compile(optimizer='adam', \n",
    "    loss={\n",
    "        \"class_output\": 'binary_crossentropy', # last layer name\n",
    "        \"log_mel_spectrogram_output\": None,\n",
    "    },\n",
    "    metrics={\n",
    "        \"class_output\": [\n",
    "            'accuracy',\n",
    "        ],\n",
    "        \"log_mel_spectrogram_output\": [\n",
    "          None,\n",
    "        ],\n",
    "    },\n",
    "    loss_weights={\n",
    "        \"class_output\": 1.0, \n",
    "        \"log_mel_spectrogram_output\": 0.0,\n",
    "    }, \n",
    ")\n",
    "model_yn_extended.fit(ds, batch_size=3)"
   ]
  }
 ],
 "metadata": {
  "interpreter": {
   "hash": "2647ea34e536f865ab67ff9ddee7fd78773d956cec0cab53c79b32cd10da5d83"
  },
  "kernelspec": {
   "display_name": "Python 3.9.7 64-bit",
   "language": "python",
   "name": "python3"
  },
  "language_info": {
   "codemirror_mode": {
    "name": "ipython",
    "version": 3
   },
   "file_extension": ".py",
   "mimetype": "text/x-python",
   "name": "python",
   "nbconvert_exporter": "python",
   "pygments_lexer": "ipython3",
   "version": "3.9.7"
  },
  "orig_nbformat": 4
 },
 "nbformat": 4,
 "nbformat_minor": 2
}
